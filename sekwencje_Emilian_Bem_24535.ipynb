{
 "cells": [
  {
   "cell_type": "code",
   "execution_count": null,
   "metadata": {
    "pycharm": {
     "name": "#%%\n"
    }
   },
   "outputs": [],
   "source": [
    "months = {1:\"January\",2:\"February\",3:\"March\",4:\"April\",5:\"May\",6:\"June\",7:\"July\",8:\"August\",9:\"September\",10:\"October\",11:\"November\",12:\"December\",\n",
    "}\n",
    "\n",
    "def Give_the_month(Which_month:int) -> str:\n",
    "    return months[Which_month]\n",
    "\n",
    "Give_the_month(3)"
   ]
  },
  {
   "cell_type": "code",
   "execution_count": null,
   "metadata": {},
   "outputs": [],
   "source": []
  },
  {
   "cell_type": "code",
   "execution_count": null,
   "metadata": {
    "pycharm": {
     "name": "#%%\n"
    }
   },
   "outputs": [],
   "source": [
    "payload_1 = {1,2,3}\n",
    "payload_2 = {2,3,4}\n",
    "\n",
    "print(payload_1.union(payload_2))\n",
    "print(payload_1.intersection(payload_2))\n",
    "print(payload_1.symmetric_difference(payload_2))"
   ]
  },
  {
   "cell_type": "code",
   "execution_count": null,
   "metadata": {
    "pycharm": {
     "name": "#%%\n"
    }
   },
   "outputs": [],
   "source": [
    "import math\n",
    "def circle_function(radius):\n",
    "    circuit = 2 * math.pi * radius\n",
    "    square = math.pi * math.sqrt(radius)\n",
    "    return [square,circuit]\n",
    "\n",
    "circle_function(5)"
   ]
  },
  {
   "cell_type": "code",
   "execution_count": null,
   "metadata": {
    "pycharm": {
     "name": "#%%\n"
    }
   },
   "outputs": [],
   "source": [
    "f_file = open(\"text.txt\", \"w\")\n",
    "\n",
    "while True:\n",
    "    text = input(\"Dodaj do pliku: \")\n",
    "    if text == \"\":\n",
    "        break\n",
    "    f_file.write(tekst)"
   ]
  },
  {
   "cell_type": "code",
   "execution_count": 1,
   "metadata": {
    "pycharm": {
     "name": "#%%\n"
    }
   },
   "outputs": [
    {
     "ename": "ValueError",
     "evalue": "invalid literal for int() with base 10: 're\\n'",
     "output_type": "error",
     "traceback": [
      "\u001b[1;31m---------------------------------------------------------------------------\u001b[0m",
      "\u001b[1;31mValueError\u001b[0m                                Traceback (most recent call last)",
      "\u001b[1;32m<ipython-input-1-60e46060e63f>\u001b[0m in \u001b[0;36m<module>\u001b[1;34m\u001b[0m\n\u001b[0;32m     19\u001b[0m \u001b[1;32mfor\u001b[0m \u001b[0mindex\u001b[0m\u001b[1;33m,\u001b[0m\u001b[0mrow\u001b[0m \u001b[1;32min\u001b[0m \u001b[0menumerate\u001b[0m\u001b[1;33m(\u001b[0m\u001b[0mfile_read\u001b[0m\u001b[1;33m,\u001b[0m \u001b[1;36m1\u001b[0m\u001b[1;33m)\u001b[0m\u001b[1;33m:\u001b[0m\u001b[1;33m\u001b[0m\u001b[1;33m\u001b[0m\u001b[0m\n\u001b[0;32m     20\u001b[0m     \u001b[0mosoba\u001b[0m \u001b[1;33m=\u001b[0m \u001b[0mrow\u001b[0m\u001b[1;33m.\u001b[0m\u001b[0msplit\u001b[0m\u001b[1;33m(\u001b[0m\u001b[1;34m\";\"\u001b[0m\u001b[1;33m)\u001b[0m\u001b[1;33m\u001b[0m\u001b[1;33m\u001b[0m\u001b[0m\n\u001b[1;32m---> 21\u001b[1;33m     \u001b[0mprint\u001b[0m\u001b[1;33m(\u001b[0m\u001b[1;34mf\"{index}. Imie: {osoba[0]}, Nazwisko: {osoba[1]}, Wiek: {dzis.year - int(osoba[2])}\"\u001b[0m\u001b[1;33m)\u001b[0m\u001b[1;33m\u001b[0m\u001b[1;33m\u001b[0m\u001b[0m\n\u001b[0m",
      "\u001b[1;31mValueError\u001b[0m: invalid literal for int() with base 10: 're\\n'"
     ]
    }
   ],
   "source": [
    "from datetime import date\n",
    "f_file = open(\"people.txt\", \"w\")\n",
    "\n",
    "while True:\n",
    "    person =input(\"Enter you Name: \")\n",
    "    person += \";\"\n",
    "    person += input(\"Enter your Surname: \")\n",
    "    person += \";\"\n",
    "    osoba += input(\"Enter your date of birth: \")\n",
    "\n",
    "    if not len(person) > 2:\n",
    "        break\n",
    "    else:\n",
    "        file.write(f\"{person}\\n\")\n",
    "\n",
    "f_file.close()\n",
    "file_read = open(\"people.txt\", \"r\")\n",
    "today = date.today()\n",
    "for index,row in enumerate(file_read, 1):\n",
    "    person = row.split(\";\")\n",
    "    print(f\"{index}. Name: {person[0]}, Surname: {osoba[1]}, Age: {today.year - int(person[2])}\")"
   ]
  }
 ],
 "metadata": {
  "kernelspec": {
   "display_name": "Python 3",
   "language": "python",
   "name": "python3"
  },
  "language_info": {
   "codemirror_mode": {
    "name": "ipython",
    "version": 3
   },
   "file_extension": ".py",
   "mimetype": "text/x-python",
   "name": "python",
   "nbconvert_exporter": "python",
   "pygments_lexer": "ipython3",
   "version": "3.8.5"
  }
 },
 "nbformat": 4,
 "nbformat_minor": 1
}
